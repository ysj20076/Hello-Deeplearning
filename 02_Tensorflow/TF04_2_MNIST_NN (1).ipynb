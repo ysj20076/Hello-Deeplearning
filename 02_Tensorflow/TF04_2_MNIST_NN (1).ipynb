{
 "cells": [
  {
   "cell_type": "markdown",
   "metadata": {},
   "source": [
    "## MNIST Dataset 분류기 with Feedforward Neural Networks"
   ]
  },
  {
   "cell_type": "markdown",
   "metadata": {},
   "source": [
    "* 한림대학교 딥러닝이해및활용 (710231)에 사용된 코드입니다. "
   ]
  },
  {
   "cell_type": "code",
   "execution_count": 1,
   "metadata": {},
   "outputs": [],
   "source": [
    "import tensorflow as tf\n",
    "import random\n",
    "from tensorflow.examples.tutorials.mnist import input_data\n",
    "import matplotlib.pyplot as plt"
   ]
  },
  {
   "cell_type": "code",
   "execution_count": 2,
   "metadata": {},
   "outputs": [],
   "source": [
    "tf.set_random_seed(777)  # reproducibility"
   ]
  },
  {
   "cell_type": "code",
   "execution_count": 3,
   "metadata": {},
   "outputs": [
    {
     "name": "stdout",
     "output_type": "stream",
     "text": [
      "Extracting ./MNIST_data/train-images-idx3-ubyte.gz\n",
      "Extracting ./MNIST_data/train-labels-idx1-ubyte.gz\n",
      "Extracting ./MNIST_data/t10k-images-idx3-ubyte.gz\n",
      "Extracting ./MNIST_data/t10k-labels-idx1-ubyte.gz\n"
     ]
    }
   ],
   "source": [
    "mnist = input_data.read_data_sets(\"./MNIST_data/\", one_hot=True)"
   ]
  },
  {
   "cell_type": "code",
   "execution_count": 4,
   "metadata": {},
   "outputs": [],
   "source": [
    "# parameters\n",
    "learning_rate = 0.001\n",
    "training_epochs = 50 #전체 데이터를 50번 학습하겠다\n",
    "batch_size = 128"
   ]
  },
  {
   "cell_type": "code",
   "execution_count": 5,
   "metadata": {},
   "outputs": [],
   "source": [
    "# input place holders\n",
    "X = tf.placeholder(tf.float32, [None, 784])\n",
    "Y = tf.placeholder(tf.float32, [None, 10])"
   ]
  },
  {
   "cell_type": "code",
   "execution_count": 6,
   "metadata": {},
   "outputs": [],
   "source": [
    "W1 = tf.Variable(tf.random_normal([784, 256]))\n",
    "b1 = tf.Variable(tf.random_normal([256]))\n",
    "L1 = tf.nn.relu(tf.matmul(X, W1) + b1)\n",
    "\n",
    "W2 = tf.Variable(tf.random_normal([256, 256]))\n",
    "b2 = tf.Variable(tf.random_normal([256]))\n",
    "L2 = tf.nn.relu(tf.matmul(L1, W2) + b2)\n",
    "\n",
    "W3 = tf.Variable(tf.random_normal([256, 10]))\n",
    "b3 = tf.Variable(tf.random_normal([10]))\n",
    "hypothesis = tf.matmul(L2, W3) + b3"
   ]
  },
  {
   "cell_type": "code",
   "execution_count": 7,
   "metadata": {},
   "outputs": [],
   "source": [
    "# define cost/loss & optimizer\n",
    "cost = tf.reduce_mean(tf.nn.softmax_cross_entropy_with_logits(logits=hypothesis, labels=Y))\n",
    "#cost = tf.reduce_mean(tf.square(hypothesis - Y))\n",
    "\n",
    "optimizer = tf.train.AdamOptimizer(learning_rate=learning_rate).minimize(cost)"
   ]
  },
  {
   "cell_type": "code",
   "execution_count": 8,
   "metadata": {},
   "outputs": [],
   "source": [
    "# initialize\n",
    "sess = tf.InteractiveSession()\n",
    "sess.run(tf.global_variables_initializer())"
   ]
  },
  {
   "cell_type": "code",
   "execution_count": 9,
   "metadata": {},
   "outputs": [],
   "source": [
    "vc = []"
   ]
  },
  {
   "cell_type": "code",
   "execution_count": 10,
   "metadata": {},
   "outputs": [
    {
     "name": "stdout",
     "output_type": "stream",
     "text": [
      "Epoch: 0001 cost = 158.015081308\n",
      "Epoch: 0002 cost = 43.147294654\n",
      "Epoch: 0003 cost = 27.380732906\n",
      "Epoch: 0004 cost = 19.392288730\n",
      "Epoch: 0005 cost = 14.570627533\n",
      "Epoch: 0006 cost = 11.052041183\n",
      "Epoch: 0007 cost = 8.545590762\n",
      "Epoch: 0008 cost = 6.533088075\n",
      "Epoch: 0009 cost = 4.975086565\n",
      "Epoch: 0010 cost = 3.804699375\n",
      "Epoch: 0011 cost = 2.975359216\n",
      "Epoch: 0012 cost = 2.380034756\n",
      "Epoch: 0013 cost = 1.668243030\n",
      "Epoch: 0014 cost = 1.451139176\n",
      "Epoch: 0015 cost = 1.146472815\n",
      "Epoch: 0016 cost = 0.831330771\n",
      "Epoch: 0017 cost = 0.670980587\n",
      "Epoch: 0018 cost = 0.621681178\n",
      "Epoch: 0019 cost = 0.471467417\n",
      "Epoch: 0020 cost = 0.400899762\n",
      "Epoch: 0021 cost = 0.471131327\n",
      "Epoch: 0022 cost = 0.404255199\n",
      "Epoch: 0023 cost = 0.268658627\n",
      "Epoch: 0024 cost = 0.306620619\n",
      "Epoch: 0025 cost = 0.306680594\n",
      "Epoch: 0026 cost = 0.274839397\n",
      "Epoch: 0027 cost = 0.287358912\n",
      "Epoch: 0028 cost = 0.249946582\n",
      "Epoch: 0029 cost = 0.264162466\n",
      "Epoch: 0030 cost = 0.225786659\n",
      "Epoch: 0031 cost = 0.236766596\n",
      "Epoch: 0032 cost = 0.245731809\n",
      "Epoch: 0033 cost = 0.211554876\n",
      "Epoch: 0034 cost = 0.284691102\n",
      "Epoch: 0035 cost = 0.173199360\n",
      "Epoch: 0036 cost = 0.211570744\n",
      "Epoch: 0037 cost = 0.163223183\n",
      "Epoch: 0038 cost = 0.198217264\n",
      "Epoch: 0039 cost = 0.179113153\n",
      "Epoch: 0040 cost = 0.155397863\n",
      "Epoch: 0041 cost = 0.171609102\n",
      "Epoch: 0042 cost = 0.243229472\n",
      "Epoch: 0043 cost = 0.169659800\n",
      "Epoch: 0044 cost = 0.126707972\n",
      "Epoch: 0045 cost = 0.141977011\n",
      "Epoch: 0046 cost = 0.229759481\n",
      "Epoch: 0047 cost = 0.181752159\n",
      "Epoch: 0048 cost = 0.125260647\n",
      "Epoch: 0049 cost = 0.071712887\n",
      "Epoch: 0050 cost = 0.118349021\n",
      "Learning Finished!\n"
     ]
    }
   ],
   "source": [
    "# train my model\n",
    "for epoch in range(training_epochs):\n",
    "    avg_cost = 0\n",
    "    total_batch = int(mnist.train.num_examples / batch_size)\n",
    "\n",
    "    for i in range(total_batch):\n",
    "        batch_xs, batch_ys = mnist.train.next_batch(batch_size)\n",
    "        feed_dict = {X: batch_xs, Y: batch_ys}\n",
    "        c, _ = sess.run([cost, optimizer], feed_dict=feed_dict)\n",
    "        avg_cost += c / total_batch\n",
    "\n",
    "    print('Epoch:', '%04d' % (epoch + 1), 'cost =', '{:.9f}'.format(avg_cost))\n",
    "    vc.append(avg_cost)\n",
    "\n",
    "print('Learning Finished!')"
   ]
  },
  {
   "cell_type": "code",
   "execution_count": 11,
   "metadata": {},
   "outputs": [
    {
     "data": {
      "text/plain": [
       "[<matplotlib.lines.Line2D at 0x7f78ff28ca58>]"
      ]
     },
     "execution_count": 11,
     "metadata": {},
     "output_type": "execute_result"
    },
    {
     "data": {
      "image/png": "[encoded data removed]",
      "text/plain": [
       "<Figure size 432x288 with 1 Axes>"
      ]
     },
     "metadata": {},
     "output_type": "display_data"
    }
   ],
   "source": [
    "plt.plot(vc)"
   ]
  },
  {
   "cell_type": "code",
   "execution_count": 12,
   "metadata": {},
   "outputs": [
    {
     "name": "stdout",
     "output_type": "stream",
     "text": [
      "<dtype: 'bool'>\n",
      "Accuracy: 0.9573\n"
     ]
    }
   ],
   "source": [
    "################################\n",
    "# 정확도 확인하기\n",
    "# Test model and check accuracy\n",
    "pred = tf.equal(tf.argmax(hypothesis, 1), tf.argmax(Y, 1))\n",
    "print (pred.dtype)\n",
    "accuracy = tf.reduce_mean(tf.cast(pred, tf.float32))\n",
    "print('Accuracy:', sess.run(accuracy, feed_dict={X: mnist.test.images, Y: mnist.test.labels}))"
   ]
  },
  {
   "cell_type": "code",
   "execution_count": null,
   "metadata": {},
   "outputs": [],
   "source": []
  }
 ],
 "metadata": {
  "kernelspec": {
   "display_name": "Python 3",
   "language": "python",
   "name": "python3"
  },
  "language_info": {
   "codemirror_mode": {
    "name": "ipython",
    "version": 3
   },
   "file_extension": ".py",
   "mimetype": "text/x-python",
   "name": "python",
   "nbconvert_exporter": "python",
   "pygments_lexer": "ipython3",
   "version": "3.6.6"
  }
 },
 "nbformat": 4,
 "nbformat_minor": 2
}
